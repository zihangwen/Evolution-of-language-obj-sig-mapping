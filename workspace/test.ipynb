{
 "cells": [
  {
   "cell_type": "code",
   "execution_count": 1,
   "metadata": {},
   "outputs": [],
   "source": [
    "import numpy as np\n",
    "import matplotlib.pyplot as plt\n",
    "import matplotlib.cm as cm\n",
    "import os\n",
    "import re\n"
   ]
  },
  {
   "cell_type": "code",
   "execution_count": null,
   "metadata": {},
   "outputs": [],
   "source": [
    "num_objects = 5\n",
    "num_sounds = 5\n",
    "\n",
    "network_name = \"bottleneck\"\n",
    "model_name_list = [\"norm\", \"softmax\"]\n",
    "# graph_path_list = [\"networks/toy/\" + a for a in os.listdir(\"/home/zihangw/EvoComm/networks/toy\")]\n",
    "\n",
    "graph_name_list = [a for a in os.listdir(f\"/home/zihangw/EvoComm/results/{network_name}/norm\")]\n",
    "# graph_name_list = sorted(graph_name_list, key=lambda s: tuple(map(int, re.findall(r\"\\d+\", s))))\n",
    "graph_name_list = sorted(graph_name_list, key=lambda s: tuple(map(int, re.findall(r\"-?\\d+\", s))))\n",
    "# graph_path_list = [\"graphs/3-r.txt\", \"graphs/5-r.txt\", \"graphs/detour.txt\", \"graphs/star.txt\", \"graphs/wheel.txt\", \"graphs/wm_100.txt\"]\n",
    "# graph_path_list = [\"graphs/detour.txt\", \"graphs/wm_100.txt\"]\n",
    "# num_runs = int(1e5)\n",
    "out_path_base = f\"/home/zihangw/EvoComm/results/{network_name}\"\n",
    "\n",
    "figure_path = f\"/home/zihangw/EvoComm/figures/{network_name}\"\n",
    "os.makedirs(figure_path, exist_ok=True)\n",
    "n_trials = 10\n",
    "num_trials = 10"
   ]
  },
  {
   "cell_type": "code",
   "execution_count": 3,
   "metadata": {},
   "outputs": [],
   "source": [
    "# graph_name_list = [os.path.basename(graph_path).split(\".\")[0] for graph_path in graph_path_list]\n",
    "# graph_name_list = sorted(graph_name_list, key=lambda s: tuple(map(int, re.findall(r\"\\d+\", s)[:3])))"
   ]
  },
  {
   "cell_type": "code",
   "execution_count": null,
   "metadata": {},
   "outputs": [],
   "source": [
    "model_dict = {}\n",
    "for model_name in model_name_list:\n",
    "    log_dict = {}\n",
    "    for i_graph in graph_name_list:\n",
    "        log_dict[i_graph] = []\n",
    "        for n_trial in range(n_trials):\n",
    "            for i_trial in range(num_trials):            \n",
    "                # graph_name = os.path.basename(graph_path).split(\".\")[0]\n",
    "                out_path = os.path.join(out_path_base, model_name, i_graph)\n",
    "                log_temp = np.loadtxt(os.path.join(out_path, \"%d.txt\" %(n_trial*num_trials+i_trial)))[:500]\n",
    "                log_dict[i_graph].append(log_temp)\n",
    "\n",
    "    model_dict[model_name] = log_dict\n",
    "    # print(\"hello world!\")"
   ]
  },
  {
   "cell_type": "code",
   "execution_count": null,
   "metadata": {},
   "outputs": [
    {
     "data": {
      "text/plain": [
       "(1001, 4)"
      ]
     },
     "execution_count": 28,
     "metadata": {},
     "output_type": "execute_result"
    }
   ],
   "source": [
    "# log_temp.shape"
   ]
  },
  {
   "cell_type": "code",
   "execution_count": null,
   "metadata": {},
   "outputs": [
    {
     "data": {
      "text/plain": [
       "array([[ -1.     ,   1.03287,   1.00167, 100.     ],\n",
       "       [ 99.     ,   1.37135,   1.06979,  81.     ],\n",
       "       [199.     ,   1.76773,   1.26985,  56.     ],\n",
       "       [299.     ,   1.83209,   1.35092,  43.     ],\n",
       "       [399.     ,   1.54756,   1.34171,  28.     ],\n",
       "       [499.     ,   1.80716,   1.49717,  14.     ],\n",
       "       [599.     ,   2.18569,   1.79292,  12.     ],\n",
       "       [699.     ,   2.44293,   2.09523,   9.     ],\n",
       "       [799.     ,   2.61515,   2.35208,   8.     ],\n",
       "       [899.     ,   2.79192,   2.63778,   7.     ]])"
      ]
     },
     "execution_count": 29,
     "metadata": {},
     "output_type": "execute_result"
    }
   ],
   "source": [
    "# log_temp[:10,:]"
   ]
  },
  {
   "cell_type": "code",
   "execution_count": null,
   "metadata": {},
   "outputs": [],
   "source": [
    "wm_100_dict = {}\n",
    "for model_name in model_name_list:\n",
    "    wm_100_dict[model_name] = []\n",
    "    for n_trial in range(10):\n",
    "        for i_trial in range(10):            \n",
    "            # graph_name = os.path.basename(graph_path).split(\".\")[0]\n",
    "            out_path = os.path.join(\"/home/zihangw/EvoComm/results_graph/\", model_name, \"wm_100\")\n",
    "            log_temp = np.loadtxt(os.path.join(out_path, \"%d.txt\" %(n_trial*num_trials+i_trial)))[:500]\n",
    "            wm_100_dict[model_name].append(log_temp)"
   ]
  },
  {
   "cell_type": "code",
   "execution_count": null,
   "metadata": {},
   "outputs": [],
   "source": [
    "star_100_dict = {}\n",
    "for model_name in model_name_list:\n",
    "    star_100_dict[model_name] = []\n",
    "    for n_trial in range(10):\n",
    "        for i_trial in range(10):            \n",
    "            # graph_name = os.path.basename(graph_path).split(\".\")[0]\n",
    "            out_path = os.path.join(\"/home/zihangw/EvoComm/results_graph/\", model_name, \"star\")\n",
    "            log_temp = np.loadtxt(os.path.join(out_path, \"%d.txt\" %(n_trial*num_trials+i_trial)))[:500]\n",
    "            star_100_dict[model_name].append(log_temp)"
   ]
  },
  {
   "cell_type": "code",
   "execution_count": 7,
   "metadata": {},
   "outputs": [
    {
     "data": {
      "text/plain": [
       "(501, 4)"
      ]
     },
     "execution_count": 7,
     "metadata": {},
     "output_type": "execute_result"
    }
   ],
   "source": [
    "log_temp.shape"
   ]
  },
  {
   "cell_type": "code",
   "execution_count": 8,
   "metadata": {},
   "outputs": [],
   "source": [
    "# wm_10_dict = {}\n",
    "# for model_name in model_name_list:\n",
    "#     wm_10_dict[model_name] = []\n",
    "#     for n_trial in range(100):\n",
    "#         for i_trial in range(100):            \n",
    "#             # graph_name = os.path.basename(graph_path).split(\".\")[0]\n",
    "#             out_path = os.path.join(\"/home/zihangw/EvoComm/results/toy\", model_name, \"wm_10\")\n",
    "#             log_temp = np.loadtxt(os.path.join(out_path, \"%d.txt\" %(n_trial*num_trials+i_trial)))\n",
    "#             wm_10_dict[model_name].append(log_temp)\n"
   ]
  },
  {
   "cell_type": "code",
   "execution_count": 9,
   "metadata": {},
   "outputs": [],
   "source": [
    "# star_10_dict = {}\n",
    "# for model_name in model_name_list:\n",
    "#     star_10_dict[model_name] = []\n",
    "#     for n_trial in range(100):\n",
    "#         for i_trial in range(100):            \n",
    "#             # graph_name = os.path.basename(graph_path).split(\".\")[0]\n",
    "#             out_path = os.path.join(\"/home/zihangw/EvoComm/results/toy\", model_name, \"star_10\")\n",
    "#             log_temp = np.loadtxt(os.path.join(out_path, \"%d.txt\" %(n_trial*num_trials+i_trial)))\n",
    "#             star_10_dict[model_name].append(log_temp)"
   ]
  },
  {
   "cell_type": "code",
   "execution_count": 17,
   "metadata": {},
   "outputs": [],
   "source": [
    "wm_dict = wm_100_dict\n",
    "star_dict = star_100_dict"
   ]
  },
  {
   "cell_type": "code",
   "execution_count": 11,
   "metadata": {},
   "outputs": [],
   "source": [
    "num_lines = len(graph_name_list)\n",
    "colors = cm.viridis(np.linspace(0, 1, num_lines))  # Change 'viridis' to other colormaps if needed\n"
   ]
  },
  {
   "cell_type": "code",
   "execution_count": 18,
   "metadata": {},
   "outputs": [],
   "source": [
    "for model_name in model_name_list:\n",
    "    # model_name = \"softmax\"\n",
    "    # if model_name == \"norm\":\n",
    "    #     max_x = 25_000 // 100\n",
    "    # else:\n",
    "    #     max_x = 2000 // 100\n",
    "        \n",
    "    log_dict = model_dict[model_name]\n",
    "\n",
    "    fig, ax = plt.subplots(figsize=(8, 6))\n",
    "    for ii, i_graph in enumerate(graph_name_list):\n",
    "        log_list_temp = log_dict[i_graph]\n",
    "        data_ave = np.mean(log_list_temp, axis=0)\n",
    "        ax.plot(data_ave[:,0], data_ave[:,2], color=colors[ii], label = i_graph)\n",
    "        # ax.plot(data_ave[:,0], data_ave[:,2], label = i_graph)\n",
    "\n",
    "    # ----- ----- #\n",
    "    wm_ave = np.mean(wm_dict[model_name], axis=0)\n",
    "    ax.plot(wm_ave[:,0], wm_ave[:,2], color=\"black\", label = \"wm_10\")\n",
    "    star_ave = np.mean(star_dict[model_name], axis=0)\n",
    "    ax.plot(star_ave[:,0], star_ave[:,2], color=\"red\", label = \"star_10\")\n",
    "    # ----- ----- #\n",
    "\n",
    "    # ax.axhline(-0.6, linestyle=\"--\", color=\"black\", label=\"-0.6\")\n",
    "    # ax.axvline(2000, linestyle=\"--\", color=\"black\")\n",
    "    ax.set_title(\"model: %s\" %model_name)\n",
    "    ax.set_xlabel(\"generation\")\n",
    "    ax.set_ylabel(\"mean fitness across population\")\n",
    "    ax.set_ylim(0.8,4.8)\n",
    "    ax.legend(loc = \"upper left\", bbox_to_anchor=(1, 1), fontsize = 8)\n",
    "    # fig.show()\n",
    "    fig.tight_layout()\n",
    "    fig.savefig(os.path.join(figure_path, \"fitness_%s_%s.jpg\"%(model_name, str(\"mean\"))), dpi = 600)\n",
    "    plt.close()\n",
    "\n",
    "    fig, ax = plt.subplots(figsize=(8, 6))\n",
    "    for ii, i_graph in enumerate(graph_name_list):\n",
    "        log_list_temp = log_dict[i_graph]\n",
    "        data_ave = np.mean(log_list_temp, axis=0)\n",
    "        ax.plot(data_ave[:,0], data_ave[:,1], color=colors[ii], label = i_graph)\n",
    "        # ax.plot(data_ave[:,0], data_ave[:,1], label = i_graph)\n",
    "\n",
    "    # ----- ----- #\n",
    "    wm_ave = np.mean(wm_dict[model_name], axis=0)\n",
    "    ax.plot(wm_ave[:,0], wm_ave[:,1], color=\"black\", label = \"wm_10\")\n",
    "    star_ave = np.mean(star_dict[model_name], axis=0)\n",
    "    ax.plot(star_ave[:,0], star_ave[:,1], color=\"red\", label = \"star_10\")\n",
    "    # ----- ----- #\n",
    "\n",
    "    ax.set_title(\"model: %s\" %model_name)\n",
    "    ax.set_xlabel(\"generation\")\n",
    "    ax.set_ylabel(\"max fitness across population\")\n",
    "    ax.set_ylim(0.8,4.8)\n",
    "    ax.legend(loc = \"upper left\", bbox_to_anchor=(1, 1), fontsize = 8)\n",
    "    # fig.show()\n",
    "    fig.tight_layout()\n",
    "    fig.savefig(os.path.join(figure_path, \"fitness_%s_%s.jpg\"%(model_name, str(\"max\"))), dpi = 600)\n",
    "    plt.close()\n",
    "\n",
    "    fig, ax = plt.subplots(figsize=(8, 6))\n",
    "    for ii, i_graph in enumerate(graph_name_list):\n",
    "        log_list_temp = np.array(log_dict[i_graph])\n",
    "        num_langs_traj = log_list_temp[:,:,[0,-1]]\n",
    "        # non_nan_idx = ~np.isnan(num_langs_traj[0,:,-1])\n",
    "        # num_langs_traj = num_langs_traj[:,non_nan_idx,:]\n",
    "        \n",
    "        num_langs_traj = np.mean(num_langs_traj, axis=0)\n",
    "        ax.plot(num_langs_traj[:,0], num_langs_traj[:,-1], color=colors[ii], label = i_graph)\n",
    "        # ax.plot(num_langs_traj[:,0], num_langs_traj[:,-1], label = i_graph)\n",
    "\n",
    "    # ----- ----- #\n",
    "    wm_ave = np.mean(wm_dict[model_name], axis=0)\n",
    "    ax.plot(wm_ave[:,0], wm_ave[:,-1], color=\"black\", label = \"wm_10\")\n",
    "    star_ave = np.mean(star_dict[model_name], axis=0)\n",
    "    ax.plot(star_ave[:,0], star_ave[:,-1], color=\"red\", label = \"star_10\")\n",
    "    # ----- ----- #\n",
    "\n",
    "    ax.set_title(\"model: %s\" %model_name)\n",
    "    # ax.axhline(-0.6, linestyle=\"--\", color=\"black\", label=\"-0.6\")\n",
    "    # ax.axvline(2000, linestyle=\"--\", color=\"black\")\n",
    "    ax.set_xlabel(\"generation\")\n",
    "    ax.set_ylabel(\"number of languages\")\n",
    "    # ax.set_xlim(0, 20000)\n",
    "    ax.legend(loc = \"upper left\", bbox_to_anchor=(1, 1), fontsize = 8)\n",
    "    # fig.show()\n",
    "    fig.tight_layout()\n",
    "    fig.savefig(os.path.join(figure_path, \"num_langs_%s_%s.jpg\"%(model_name, str(\"mean\"))), dpi = 600)\n",
    "    plt.close()"
   ]
  },
  {
   "cell_type": "code",
   "execution_count": 26,
   "metadata": {},
   "outputs": [],
   "source": [
    "for model_name in model_name_list:\n",
    "    # model_name = \"softmax\"\n",
    "    if model_name == \"norm\":\n",
    "        min_x = 0\n",
    "        max_x = 60_000\n",
    "        min_y = 0\n",
    "        max_y = 20\n",
    "    else:\n",
    "        min_x = 0\n",
    "        max_x = 100_000\n",
    "        min_y = 0\n",
    "        max_y = 5\n",
    "        \n",
    "    log_dict = model_dict[model_name]\n",
    "\n",
    "\n",
    "    fig, ax = plt.subplots(figsize=(8, 6))\n",
    "    for ii, i_graph in enumerate(graph_name_list):\n",
    "        log_list_temp = np.array(log_dict[i_graph])\n",
    "        num_langs_traj = log_list_temp[:,:,[0,-1]]\n",
    "        # non_nan_idx = ~np.isnan(num_langs_traj[0,:,-1])\n",
    "        # num_langs_traj = num_langs_traj[:,non_nan_idx,:]\n",
    "        \n",
    "        num_langs_traj = np.mean(num_langs_traj, axis=0)\n",
    "        ax.plot(num_langs_traj[:,0], num_langs_traj[:,-1], color=colors[ii], label = i_graph)\n",
    "        # ax.plot(num_langs_traj[:,0], num_langs_traj[:,-1], label = i_graph)\n",
    "\n",
    "    # ----- ----- #\n",
    "    wm_ave = np.mean(wm_dict[model_name], axis=0)\n",
    "    ax.plot(wm_ave[:,0], wm_ave[:,-1], color=\"black\", label = \"wm_10\")\n",
    "    star_ave = np.mean(star_dict[model_name], axis=0)\n",
    "    ax.plot(star_ave[:,0], star_ave[:,-1], color=\"red\", label = \"star_10\")\n",
    "    # ----- ----- #\n",
    "\n",
    "    ax.set_title(\"model: %s\" %model_name)\n",
    "    # ax.axhline(-0.6, linestyle=\"--\", color=\"black\", label=\"-0.6\")\n",
    "    # ax.axvline(2000, linestyle=\"--\", color=\"black\")\n",
    "    ax.set_xlabel(\"generation\")\n",
    "    ax.set_ylabel(\"number of languages\")\n",
    "    ax.set_xlim(0, max_x)\n",
    "    ax.set_ylim(0, max_y)\n",
    "    ax.legend(loc = \"upper left\", bbox_to_anchor=(1, 1), fontsize = 8)\n",
    "    # fig.show()\n",
    "    fig.tight_layout()\n",
    "    fig.savefig(os.path.join(figure_path, \"num_langs_%s_%s_zoomin.jpg\"%(model_name, str(\"mean\"))), dpi = 600)\n",
    "    plt.close()"
   ]
  },
  {
   "cell_type": "code",
   "execution_count": 14,
   "metadata": {},
   "outputs": [],
   "source": [
    "# log_dict = model_dict[\"softmax\"]\n",
    "\n",
    "# for i_graph in graph_name_list:\n",
    "#     log_list_temp = np.array(log_dict[i_graph])\n",
    "#     num_langs_traj = log_list_temp[:,:,[0,-1]]\n",
    "#     non_nan_idx = ~np.isnan(num_langs_traj[0,:,-1])\n",
    "#     num_langs_traj = num_langs_traj[:,non_nan_idx,:]\n",
    "    \n",
    "#     num_langs_traj = np.mean(num_langs_traj, axis=0)\n",
    "#     print(i_graph, num_langs_traj[-1,-1])\n"
   ]
  }
 ],
 "metadata": {
  "kernelspec": {
   "display_name": "Python 3",
   "language": "python",
   "name": "python3"
  },
  "language_info": {
   "codemirror_mode": {
    "name": "ipython",
    "version": 3
   },
   "file_extension": ".py",
   "mimetype": "text/x-python",
   "name": "python",
   "nbconvert_exporter": "python",
   "pygments_lexer": "ipython3",
   "version": "3.12.7"
  }
 },
 "nbformat": 4,
 "nbformat_minor": 2
}
