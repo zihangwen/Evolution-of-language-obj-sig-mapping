{
 "cells": [
  {
   "cell_type": "code",
   "execution_count": 9,
   "metadata": {},
   "outputs": [],
   "source": [
    "import networkx as nx\n",
    "import os"
   ]
  },
  {
   "cell_type": "code",
   "execution_count": 10,
   "metadata": {},
   "outputs": [],
   "source": [
    "graph_path_list = [\"networks/regular_100_4_triangle/\" + a for a in os.listdir(\"/home/zihangw/EvoComm/networks/regular_100_4_triangle\")]\n",
    "# graph_path_list = [\"networks/PA_100/\" + a for a in os.listdir(\"/home/zihangw/EvoComm/networks/PA_100\")]"
   ]
  },
  {
   "cell_type": "code",
   "execution_count": null,
   "metadata": {},
   "outputs": [],
   "source": [
    "for graph_path in graph_path_list:\n",
    "    G = nx.read_edgelist(graph_path)\n",
    "    print(graph_path, nx.is_connected(G))\n"
   ]
  }
 ],
 "metadata": {
  "kernelspec": {
   "display_name": "Python 3",
   "language": "python",
   "name": "python3"
  },
  "language_info": {
   "codemirror_mode": {
    "name": "ipython",
    "version": 3
   },
   "file_extension": ".py",
   "mimetype": "text/x-python",
   "name": "python",
   "nbconvert_exporter": "python",
   "pygments_lexer": "ipython3",
   "version": "3.12.8"
  }
 },
 "nbformat": 4,
 "nbformat_minor": 2
}
